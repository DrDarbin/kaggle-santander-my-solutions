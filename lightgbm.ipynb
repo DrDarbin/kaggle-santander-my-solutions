{
 "cells": [
  {
   "cell_type": "markdown",
   "metadata": {
    "_uuid": "f1b99a5ab714a0282444c484646e6c254d2dd291"
   },
   "source": [
    "**Inspired with: [1]**"
   ]
  },
  {
   "cell_type": "code",
   "execution_count": 1,
   "metadata": {
    "_cell_guid": "b1076dfc-b9ad-4769-8c92-a6c4dae69d19",
    "_uuid": "8f2839f25d086af736a60e9eeb907d3b93b6e0e5"
   },
   "outputs": [],
   "source": [
    "import numpy as np\n",
    "import pandas as pd\n",
    "import lightgbm as lgb\n",
    "from sklearn.model_selection import StratifiedKFold\n",
    "from sklearn.metrics import roc_auc_score\n",
    "import warnings\n",
    "warnings.filterwarnings('ignore')"
   ]
  },
  {
   "cell_type": "code",
   "execution_count": 2,
   "metadata": {
    "_cell_guid": "79c7e3d0-c299-4dcb-8224-4455121ee9b0",
    "_uuid": "d629ff2d2480ee46fbb7e2d37f6b5fab8052498a"
   },
   "outputs": [],
   "source": [
    "train = pd.read_csv(\"../input/train.csv\")\n",
    "test = pd.read_csv(\"../input/test.csv\")"
   ]
  },
  {
   "cell_type": "code",
   "execution_count": 3,
   "metadata": {
    "_uuid": "6fcec3c3f4ffdbff5e58eada3039e4ff3c2ad1a8"
   },
   "outputs": [],
   "source": [
    "y = train['target']\n",
    "\n",
    "cols_id_and_target = ['target', 'ID_code']\n",
    "# insignificant vars as a result of a logit regression analysis:\n",
    "#cols_insignificant_due_to_logit = ['var_7', 'var_10', 'var_17', 'var_27', 'var_30', 'var_38', 'var_39', 'var_41', 'var_96', 'var_98', 'var_100', 'var_103', 'var_117', 'var_124', 'var_126', 'var_136', 'var_158', 'var_160', 'var_161', 'var_183', 'var_185']\n",
    "cols_insignificant_due_to_logit = []\n",
    "# insignificant vars as a result of Kolmogorov-Smirnov analysis [2]:\n",
    "#cols_insignificant_due_to_KS = ['var_9', 'var_14', 'var_29', 'var_46', 'var_61', 'var_73', 'var_79', 'var_129', 'var_184']\n",
    "cols_insignificant_due_to_KS = []\n",
    "\n",
    "X = train.drop(cols_id_and_target + cols_insignificant_due_to_logit + cols_insignificant_due_to_KS, axis = 1)\n",
    "\n",
    "test_X = test.drop(['ID_code'] + cols_insignificant_due_to_logit + cols_insignificant_due_to_KS, axis = 1)"
   ]
  },
  {
   "cell_type": "code",
   "execution_count": 4,
   "metadata": {
    "_uuid": "ea96cc935bf7a9353cd9741096b9754df63464d6"
   },
   "outputs": [],
   "source": [
    "sample_train = train.sample( n = 2000, random_state = 1)\n",
    "sample_y = sample_train['target']\n",
    "sample_X = sample_train.drop(cols_id_and_target + cols_insignificant_due_to_logit + cols_insignificant_due_to_KS, axis = 1)\n",
    "\n",
    "# use all data instead of sample\n",
    "sample_y = y\n",
    "sample_X = X"
   ]
  },
  {
   "cell_type": "code",
   "execution_count": 5,
   "metadata": {
    "_uuid": "7f9fd35ecd96157d1e0fcc45dc13ba45eeeb5f39"
   },
   "outputs": [],
   "source": [
    "param = {\n",
    "    'bagging_freq': 5,          \n",
    "    'bagging_fraction': 0.331,\n",
    "    'boost_from_average':'false',   \n",
    "    'boost': 'gbdt',\n",
    "    'feature_fraction': 0.0405,\n",
    "    'learning_rate': 0.0083,\n",
    "    'max_depth': -1,\n",
    "    'metric':'auc',\n",
    "    'min_data_in_leaf': 80,\n",
    "    'min_sum_hessian_in_leaf': 10.0,\n",
    "    'num_leaves': 13,\n",
    "    'num_threads': 8,\n",
    "    'tree_learner': 'serial',\n",
    "    'objective': 'binary',\n",
    "    'verbosity': 1\n",
    "}"
   ]
  },
  {
   "cell_type": "code",
   "execution_count": 6,
   "metadata": {
    "_uuid": "6f611359e0d30e78bc551640f9fea1fdd29e82a1",
    "scrolled": true
   },
   "outputs": [
    {
     "data": {
      "text/plain": [
       "'pred_for_train = np.zeros(len(sample_X))\\npred_for_test = np.zeros(len(test_X))\\nkfold = StratifiedKFold(n_splits = 10, shuffle = False, random_state = 1)\\nfor n, (train_i, val_i) in enumerate(kfold.split(sample_X, sample_y)):\\n    print(\"Fold №{}\".format(n))\\n    train_data = lgb.Dataset(sample_X.iloc[train_i], label = sample_y.iloc[train_i])\\n    val_data = lgb.Dataset(sample_X.iloc[val_i], label = sample_y.iloc[val_i])\\n    trained_lgb = lgb.train(param, train_data, 30000, valid_sets = [train_data, val_data], verbose_eval = 1000, early_stopping_rounds = 4000)\\n    pred_for_train[val_i] = trained_lgb.predict(sample_X.iloc[val_i], num_iteration = trained_lgb.best_iteration)\\n    pred_for_test += trained_lgb.predict(test_X, num_iteration = trained_lgb.best_iteration) / kfold.n_splits\\n\\nprint(\"CV score: {:<8.5f}\".format(roc_auc_score(sample_y, pred_for_train)))\\n'"
      ]
     },
     "execution_count": 6,
     "metadata": {},
     "output_type": "execute_result"
    }
   ],
   "source": [
    "# LighGBM API: [3]\n",
    "# launch lgb on all data with known early_stopping_rounds, without kfolds\n",
    "'''pred_for_train = np.zeros(len(sample_X))\n",
    "pred_for_test = np.zeros(len(test_X))\n",
    "kfold = StratifiedKFold(n_splits = 10, shuffle = False, random_state = 1)\n",
    "for n, (train_i, val_i) in enumerate(kfold.split(sample_X, sample_y)):\n",
    "    print(\"Fold №{}\".format(n))\n",
    "    train_data = lgb.Dataset(sample_X.iloc[train_i], label = sample_y.iloc[train_i])\n",
    "    val_data = lgb.Dataset(sample_X.iloc[val_i], label = sample_y.iloc[val_i])\n",
    "    trained_lgb = lgb.train(param, train_data, 30000, valid_sets = [train_data, val_data], verbose_eval = 1000, early_stopping_rounds = 4000)\n",
    "    pred_for_train[val_i] = trained_lgb.predict(sample_X.iloc[val_i], num_iteration = trained_lgb.best_iteration)\n",
    "    pred_for_test += trained_lgb.predict(test_X, num_iteration = trained_lgb.best_iteration) / kfold.n_splits\n",
    "\n",
    "print(\"CV score: {:<8.5f}\".format(roc_auc_score(sample_y, pred_for_train)))\n",
    "'''"
   ]
  },
  {
   "cell_type": "code",
   "execution_count": 7,
   "metadata": {
    "_uuid": "9a6ab3b459105b799aff7cd2b3cb5a818ef8054d"
   },
   "outputs": [],
   "source": [
    "# num_iteration is gottn from LightGBM v1 model as anaverage\n",
    "train_data = lgb.Dataset(sample_X, sample_y)\n",
    "trained_lgb = lgb.train(param, train_data, 10218, verbose_eval = 100)"
   ]
  },
  {
   "cell_type": "code",
   "execution_count": 8,
   "metadata": {
    "_uuid": "19cb7b809e63ef3502cc25587b301e9ca5866fd8"
   },
   "outputs": [
    {
     "data": {
      "text/plain": [
       "<lightgbm.basic.Booster at 0x7f6b0c96a048>"
      ]
     },
     "execution_count": 8,
     "metadata": {},
     "output_type": "execute_result"
    }
   ],
   "source": [
    "trained_lgb.save_model('log-for-LigthGBM-v2-all-vars.csv')"
   ]
  },
  {
   "cell_type": "code",
   "execution_count": 9,
   "metadata": {
    "_uuid": "5d06d86240b45e55f69192cb94736d9627d9dd73"
   },
   "outputs": [],
   "source": [
    "pred_for_test = trained_lgb.predict(test_X, num_iteration = 10218)"
   ]
  },
  {
   "cell_type": "code",
   "execution_count": 10,
   "metadata": {
    "_uuid": "daa8297266f3279c079a7493606dc288cd929e59"
   },
   "outputs": [],
   "source": [
    "output = pd.DataFrame({'ID_code': test.ID_code,\n",
    "                       'target': pred_for_test})\n",
    "output.to_csv('submission.csv', index=False)"
   ]
  },
  {
   "cell_type": "markdown",
   "metadata": {
    "_uuid": "18740517a05e886ef1d9372594bc1f087dbc1e9a"
   },
   "source": [
    "**References:**\n",
    "\n",
    "[1] https://www.kaggle.com/gpreda/santander-fast-compact-solution/log\n",
    "\n",
    "[2] https://www.kaggle.com/youhanlee/yh-eda-i-want-to-see-all\n",
    "\n",
    "[3] https://lightgbm.readthedocs.io/en/latest/Python-API.html#training-api"
   ]
  }
 ],
 "metadata": {
  "kernelspec": {
   "display_name": "Python 3",
   "language": "python",
   "name": "python3"
  },
  "language_info": {
   "codemirror_mode": {
    "name": "ipython",
    "version": 3
   },
   "file_extension": ".py",
   "mimetype": "text/x-python",
   "name": "python",
   "nbconvert_exporter": "python",
   "pygments_lexer": "ipython3",
   "version": "3.6.6"
  }
 },
 "nbformat": 4,
 "nbformat_minor": 1
}
